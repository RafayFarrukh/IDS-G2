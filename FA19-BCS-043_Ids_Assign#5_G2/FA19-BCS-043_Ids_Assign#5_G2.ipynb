{
 "cells": [
  {
   "cell_type": "code",
   "execution_count": 63,
   "metadata": {},
   "outputs": [],
   "source": [
    "from collections import Counter\n",
    "from math import log"
   ]
  },
  {
   "cell_type": "code",
   "execution_count": 64,
   "metadata": {},
   "outputs": [],
   "source": [
    "# List of sentences\n",
    "sentences = [\n",
    "    \"sunshine state enjoy sunshine\",\n",
    "    \"brown fox jump high, brown fox run\",\n",
    "    \"sunshine state fox run fast\",\n",
    "]"
   ]
  },
  {
   "cell_type": "code",
   "execution_count": 65,
   "metadata": {},
   "outputs": [],
   "source": [
    "# Create a vocabulary list of unique words from the sentences\n",
    "vocab = set()\n",
    "for sentence in sentences:\n",
    "    for word in sentence.split():\n",
    "        vocab.add(word)\n",
    "vocab = list(vocab)"
   ]
  },
  {
   "cell_type": "code",
   "execution_count": 66,
   "metadata": {},
   "outputs": [],
   "source": [
    "# Document-term matrix\n",
    "doc_term_matrix = []\n",
    "for sentence in sentences:\n",
    "   \n",
    "    bow_vector = [0] * len(vocab)\n",
    "    for word in sentence.split():\n",
    "        if word in vocab:\n",
    "            bow_vector[vocab.index(word)] += 1\n",
    "    doc_term_matrix.append(bow_vector)"
   ]
  },
  {
   "cell_type": "code",
   "execution_count": 67,
   "metadata": {},
   "outputs": [],
   "source": [
    "# Compute the TF vectors\n",
    "tf_vectors = []\n",
    "for bow_vector in doc_term_matrix:\n",
    "    # Normalize the BoW vector by dividing each element by the total number of words in the sentence\n",
    "    tf_vector = [word_count / len(bow_vector) for word_count in bow_vector]\n",
    "    tf_vectors.append(tf_vector)"
   ]
  },
  {
   "cell_type": "code",
   "execution_count": 68,
   "metadata": {},
   "outputs": [],
   "source": [
    "# Compute the IDF values\n",
    "idf_values = []\n",
    "for term in vocab:\n",
    "    # Count the number of documents that contain the term\n",
    "    doc_count = 0\n",
    "    for bow_vector in doc_term_matrix:\n",
    "        if bow_vector[vocab.index(term)] > 0:\n",
    "            doc_count += 1\n",
    "    # IDF value for the term\n",
    "    idf_value = log(len(sentences) / doc_count)\n",
    "    idf_values.append(idf_value)"
   ]
  },
  {
   "cell_type": "code",
   "execution_count": 69,
   "metadata": {},
   "outputs": [],
   "source": [
    "# Calculate the TF.IDF vectors\n",
    "tfidf_vectors = []\n",
    "for tf_vector in tf_vectors:\n",
    "    #TF vector * IDF values\n",
    "    tfidf_vector = [tf * idf for tf, idf in zip(tf_vector, idf_values)]\n",
    "    tfidf_vectors.append(tfidf_vector)\n"
   ]
  },
  {
   "cell_type": "code",
   "execution_count": 70,
   "metadata": {},
   "outputs": [
    {
     "name": "stdout",
     "output_type": "stream",
     "text": [
      "Vocabulary:\n",
      " ['brown', 'state', 'sunshine', 'jump', 'fox', 'high,', 'fast', 'enjoy', 'run']\n",
      "Document-term matrix:\n",
      " [[0, 1, 2, 0, 0, 0, 0, 1, 0], [2, 0, 0, 1, 2, 1, 0, 0, 1], [0, 1, 1, 0, 1, 0, 1, 0, 1]]\n",
      "TF vectors:\n",
      "  [[0.0, 0.1111111111111111, 0.2222222222222222, 0.0, 0.0, 0.0, 0.0, 0.1111111111111111, 0.0], [0.2222222222222222, 0.0, 0.0, 0.1111111111111111, 0.2222222222222222, 0.1111111111111111, 0.0, 0.0, 0.1111111111111111], [0.0, 0.1111111111111111, 0.1111111111111111, 0.0, 0.1111111111111111, 0.0, 0.1111111111111111, 0.0, 0.1111111111111111]]\n",
      "IDF values:\n",
      " [1.0986122886681098, 0.4054651081081644, 0.4054651081081644, 1.0986122886681098, 0.4054651081081644, 1.0986122886681098, 1.0986122886681098, 1.0986122886681098, 0.4054651081081644]\n",
      "TF.IDF vectors:\n",
      " [[0.0, 0.04505167867868493, 0.09010335735736986, 0.0, 0.0, 0.0, 0.0, 0.12206803207423442, 0.0], [0.24413606414846883, 0.0, 0.0, 0.12206803207423442, 0.09010335735736986, 0.12206803207423442, 0.0, 0.0, 0.04505167867868493], [0.0, 0.04505167867868493, 0.04505167867868493, 0.0, 0.04505167867868493, 0.0, 0.12206803207423442, 0.0, 0.04505167867868493]]\n"
     ]
    }
   ],
   "source": [
    "# Print the results\n",
    "print(\"Vocabulary:\\n\",  vocab)\n",
    "print(\"Document-term matrix:\\n\",doc_term_matrix)\n",
    "print(\"TF vectors:\\n \",  tf_vectors)\n",
    "print(\"IDF values:\\n\",  idf_values)\n",
    "print(\"TF.IDF vectors:\\n\",  tfidf_vectors)"
   ]
  },
  {
   "cell_type": "code",
   "execution_count": null,
   "metadata": {},
   "outputs": [],
   "source": []
  },
  {
   "cell_type": "code",
   "execution_count": null,
   "metadata": {},
   "outputs": [],
   "source": [
    "# Question no 2\n"
   ]
  },
  {
   "cell_type": "code",
   "execution_count": 72,
   "metadata": {},
   "outputs": [],
   "source": [
    "from sklearn.feature_extraction.text import TfidfVectorizer\n",
    "from sklearn.metrics.pairwise import cosine_similarity"
   ]
  },
  {
   "cell_type": "code",
   "execution_count": 73,
   "metadata": {},
   "outputs": [],
   "source": [
    "# Define the strings\n",
    "S1 = \"sunshine state enjoy sunshine\"\n",
    "S3 = \"sunshine state fox run fast\""
   ]
  },
  {
   "cell_type": "code",
   "execution_count": 81,
   "metadata": {},
   "outputs": [],
   "source": [
    "\n",
    "# Create a list of the strings\n",
    "strings = [S1, S3]"
   ]
  },
  {
   "cell_type": "code",
   "execution_count": 82,
   "metadata": {},
   "outputs": [],
   "source": [
    "# Create a TfidfVectorizer object\n",
    "vectorizer = TfidfVectorizer()\n"
   ]
  },
  {
   "cell_type": "code",
   "execution_count": 84,
   "metadata": {},
   "outputs": [],
   "source": [
    "# Convert the strings to a matrix of Tf-idf features\n",
    "tfidf_matrix = vectorizer.fit_transform(strings)"
   ]
  },
  {
   "cell_type": "code",
   "execution_count": 86,
   "metadata": {},
   "outputs": [
    {
     "name": "stdout",
     "output_type": "stream",
     "text": [
      "0.40347057701869526\n"
     ]
    }
   ],
   "source": [
    "# Print the cosine similarity\n",
    "print(cosine_similarity[0][1])"
   ]
  },
  {
   "cell_type": "code",
   "execution_count": null,
   "metadata": {},
   "outputs": [],
   "source": []
  }
 ],
 "metadata": {
  "kernelspec": {
   "display_name": "Python 3",
   "language": "python",
   "name": "python3"
  },
  "language_info": {
   "codemirror_mode": {
    "name": "ipython",
    "version": 3
   },
   "file_extension": ".py",
   "mimetype": "text/x-python",
   "name": "python",
   "nbconvert_exporter": "python",
   "pygments_lexer": "ipython3",
   "version": "3.7.4"
  }
 },
 "nbformat": 4,
 "nbformat_minor": 2
}
